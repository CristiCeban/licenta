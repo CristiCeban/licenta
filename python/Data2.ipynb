{
 "cells": [
  {
   "cell_type": "code",
   "execution_count": 1,
   "id": "4e0be818",
   "metadata": {},
   "outputs": [
    {
     "name": "stderr",
     "output_type": "stream",
     "text": [
      "c:\\users\\cristi\\pycharmprojects\\x_ray\\venv\\lib\\site-packages\\tensorflow_addons\\utils\\ensure_tf_install.py:53: UserWarning: Tensorflow Addons supports using Python ops for all Tensorflow versions above or equal to 2.3.0 and strictly below 2.5.0 (nightly versions are not supported). \n",
      " The versions of TensorFlow you are currently using is 2.5.0-rc3 and is not supported. \n",
      "Some things might work, some things might not.\n",
      "If you were to encounter a bug, do not file an issue.\n",
      "If you want to make sure you're using a tested and supported configuration, either change the TensorFlow version or the TensorFlow Addons's version. \n",
      "You can find the compatibility matrix in TensorFlow Addon's readme:\n",
      "https://github.com/tensorflow/addons\n",
      "  warnings.warn(\n"
     ]
    }
   ],
   "source": [
    "import numpy as np\n",
    "import tensorflow as tf\n",
    "import tensorflow_addons as tfa\n",
    "from tensorflow.keras.applications import DenseNet121\n",
    "from tensorflow.keras.layers import Dense, GlobalAveragePooling2D, BatchNormalization ,Dropout\n",
    "from tensorflow.python.client import device_lib\n",
    "from tensorflow.keras import backend as K\n",
    "\n",
    "from tensorflow.python.keras.utils.vis_utils import model_to_dot\n",
    "from IPython.display import SVG\n",
    "import pydot\n",
    "import graphviz\n"
   ]
  },
  {
   "cell_type": "code",
   "execution_count": 2,
   "id": "9cc2331f",
   "metadata": {},
   "outputs": [
    {
     "name": "stdout",
     "output_type": "stream",
     "text": [
      "[name: \"/device:CPU:0\"\n",
      "device_type: \"CPU\"\n",
      "memory_limit: 268435456\n",
      "locality {\n",
      "}\n",
      "incarnation: 13785272660887095040\n",
      ", name: \"/device:GPU:0\"\n",
      "device_type: \"GPU\"\n",
      "memory_limit: 1933094912\n",
      "locality {\n",
      "  bus_id: 1\n",
      "  links {\n",
      "  }\n",
      "}\n",
      "incarnation: 18286239690777651372\n",
      "physical_device_desc: \"device: 0, name: NVIDIA GeForce RTX 3070 Laptop GPU, pci bus id: 0000:01:00.0, compute capability: 8.6\"\n",
      "]\n"
     ]
    }
   ],
   "source": [
    "physical_devices = tf.config.list_physical_devices('GPU')\n",
    "tf.config.experimental.set_memory_growth(physical_devices[0], True)\n",
    "\n",
    "def get_available_devices():\n",
    "    local_device_protos = device_lib.list_local_devices()\n",
    "    return [x for x in local_device_protos]\n",
    "\n",
    "\n",
    "print(get_available_devices())"
   ]
  },
  {
   "cell_type": "code",
   "execution_count": 3,
   "id": "e30594d6",
   "metadata": {},
   "outputs": [],
   "source": [
    "METRICS = [\n",
    "    tf.keras.metrics.TruePositives(name='tp'), #true-positive\n",
    "    tf.keras.metrics.FalsePositives(name='fp'), #false-positive\n",
    "    tf.keras.metrics.TrueNegatives(name='tn'), #true-negative\n",
    "    tf.keras.metrics.FalseNegatives(name='fn'), #false-negative\n",
    "    tf.keras.metrics.BinaryAccuracy(name='accuracy'),\n",
    "    tf.keras.metrics.Precision(name='precision'),\n",
    "    tf.keras.metrics.Recall(name='recall'),\n",
    "    tf.keras.metrics.AUC(name='auc'), \n",
    "    tf.keras.metrics.AUC(name='prc', curve='PR'),  # precision-recall curve\n",
    "]"
   ]
  },
  {
   "cell_type": "code",
   "execution_count": 4,
   "id": "bd86eb3c",
   "metadata": {},
   "outputs": [
    {
     "name": "stdout",
     "output_type": "stream",
     "text": [
      "Weight for class 0: 1.94\n",
      "Weight for class 1: 0.67\n"
     ]
    }
   ],
   "source": [
    "img_width, img_height = 150, 150\n",
    "batch_size = 10\n",
    "epochs = 200\n",
    "COUNT_NORMAL_TRAIN = 1342\n",
    "COUNT_PNEUMONIA_TRAIN = 3876\n",
    "TRAIN_IMAGE_COUNT = COUNT_NORMAL_TRAIN + COUNT_PNEUMONIA_TRAIN\n",
    "weight_for_0 = (1 / COUNT_NORMAL_TRAIN) * (TRAIN_IMAGE_COUNT) / 2.0\n",
    "weight_for_1 = (1 / COUNT_PNEUMONIA_TRAIN) * (TRAIN_IMAGE_COUNT) / 2.0\n",
    "class_weight = {0: weight_for_0, 1: weight_for_1}\n",
    "\n",
    "print('Weight for class 0: {:.2f}'.format(weight_for_0)) #1.94\n",
    "print('Weight for class 1: {:.2f}'.format(weight_for_1)) #0.67"
   ]
  },
  {
   "cell_type": "code",
   "execution_count": 5,
   "id": "807e8606",
   "metadata": {},
   "outputs": [],
   "source": [
    "if K.image_data_format() == \"channels_first\":\n",
    "    input_shape = (3, img_width, img_height)\n",
    "else:\n",
    "    input_shape = (img_width, img_height, 3)"
   ]
  },
  {
   "cell_type": "code",
   "execution_count": 6,
   "id": "140a10ac",
   "metadata": {},
   "outputs": [],
   "source": [
    "def build_model_densenet():\n",
    "    model_densenet = DenseNet121(\n",
    "        weights='imagenet',\n",
    "        include_top=False,\n",
    "        input_shape=input_shape,\n",
    "        classes=1\n",
    "    )\n",
    "\n",
    "    for layer in model_densenet.layers[:-8]:\n",
    "        layer.trainable = False\n",
    "\n",
    "    for layer in model_densenet.layers[-8:]:\n",
    "        layer.trainable = True\n",
    "\n",
    "    model = tf.keras.Sequential(\n",
    "        [\n",
    "            tf.keras.layers.experimental.preprocessing.Rescaling(1. / 255, input_shape=input_shape),\n",
    "            tf.keras.layers.experimental.preprocessing.RandomFlip('horizontal'),\n",
    "            tf.keras.layers.experimental.preprocessing.RandomFlip('vertical'),\n",
    "            tf.keras.layers.experimental.preprocessing.RandomRotation(factor=0.02),\n",
    "            tf.keras.layers.experimental.preprocessing.RandomZoom(\n",
    "                height_factor=0.2,\n",
    "                width_factor=0.2,\n",
    "            ),\n",
    "            model_densenet,\n",
    "            GlobalAveragePooling2D(),\n",
    "            BatchNormalization(),\n",
    "            Dropout(0.2),\n",
    "            Dense(1024, activation='relu'),\n",
    "            Dense(512, activation='relu'),\n",
    "            BatchNormalization(),\n",
    "            Dense(1, activation='sigmoid')\n",
    "        ]\n",
    "    )\n",
    "\n",
    "    return model"
   ]
  },
  {
   "cell_type": "code",
   "execution_count": 7,
   "id": "874d1cd0",
   "metadata": {},
   "outputs": [],
   "source": [
    "model = build_model_densenet()"
   ]
  },
  {
   "cell_type": "code",
   "execution_count": 9,
   "id": "611eafd0",
   "metadata": {},
   "outputs": [
    {
     "data": {
      "text/plain": "<IPython.core.display.SVG object>",
      "image/svg+xml": "<svg xmlns=\"http://www.w3.org/2000/svg\" xmlns:xlink=\"http://www.w3.org/1999/xlink\" width=\"413pt\" height=\"945pt\" viewBox=\"0.00 0.00 496.00 1134.00\">\n<g id=\"graph0\" class=\"graph\" transform=\"scale(0.83 0.83) rotate(0) translate(4 1130)\">\n<title>G</title>\n<polygon fill=\"white\" stroke=\"transparent\" points=\"-4,4 -4,-1130 492,-1130 492,4 -4,4\"/>\n<!-- 1841997594576 -->\n<g id=\"node1\" class=\"node\">\n<title>1841997594576</title>\n<polygon fill=\"none\" stroke=\"black\" points=\"65,-1079.5 65,-1125.5 423,-1125.5 423,-1079.5 65,-1079.5\"/>\n<text text-anchor=\"middle\" x=\"149\" y=\"-1098.8\" font-family=\"Times New Roman,serif\" font-size=\"14.00\">rescaling_input: InputLayer</text>\n<polyline fill=\"none\" stroke=\"black\" points=\"233,-1079.5 233,-1125.5 \"/>\n<text text-anchor=\"middle\" x=\"261\" y=\"-1110.3\" font-family=\"Times New Roman,serif\" font-size=\"14.00\">input:</text>\n<polyline fill=\"none\" stroke=\"black\" points=\"233,-1102.5 289,-1102.5 \"/>\n<text text-anchor=\"middle\" x=\"261\" y=\"-1087.3\" font-family=\"Times New Roman,serif\" font-size=\"14.00\">output:</text>\n<polyline fill=\"none\" stroke=\"black\" points=\"289,-1079.5 289,-1125.5 \"/>\n<text text-anchor=\"middle\" x=\"356\" y=\"-1110.3\" font-family=\"Times New Roman,serif\" font-size=\"14.00\">[(None, 150, 150, 3)]</text>\n<polyline fill=\"none\" stroke=\"black\" points=\"289,-1102.5 423,-1102.5 \"/>\n<text text-anchor=\"middle\" x=\"356\" y=\"-1087.3\" font-family=\"Times New Roman,serif\" font-size=\"14.00\">[(None, 150, 150, 3)]</text>\n</g>\n<!-- 1841996487600 -->\n<g id=\"node2\" class=\"node\">\n<title>1841996487600</title>\n<polygon fill=\"none\" stroke=\"black\" points=\"90.5,-996.5 90.5,-1042.5 397.5,-1042.5 397.5,-996.5 90.5,-996.5\"/>\n<text text-anchor=\"middle\" x=\"153.5\" y=\"-1015.8\" font-family=\"Times New Roman,serif\" font-size=\"14.00\">rescaling: Rescaling</text>\n<polyline fill=\"none\" stroke=\"black\" points=\"216.5,-996.5 216.5,-1042.5 \"/>\n<text text-anchor=\"middle\" x=\"244.5\" y=\"-1027.3\" font-family=\"Times New Roman,serif\" font-size=\"14.00\">input:</text>\n<polyline fill=\"none\" stroke=\"black\" points=\"216.5,-1019.5 272.5,-1019.5 \"/>\n<text text-anchor=\"middle\" x=\"244.5\" y=\"-1004.3\" font-family=\"Times New Roman,serif\" font-size=\"14.00\">output:</text>\n<polyline fill=\"none\" stroke=\"black\" points=\"272.5,-996.5 272.5,-1042.5 \"/>\n<text text-anchor=\"middle\" x=\"335\" y=\"-1027.3\" font-family=\"Times New Roman,serif\" font-size=\"14.00\">(None, 150, 150, 3)</text>\n<polyline fill=\"none\" stroke=\"black\" points=\"272.5,-1019.5 397.5,-1019.5 \"/>\n<text text-anchor=\"middle\" x=\"335\" y=\"-1004.3\" font-family=\"Times New Roman,serif\" font-size=\"14.00\">(None, 150, 150, 3)</text>\n</g>\n<!-- 1841997594576&#45;&gt;1841996487600 -->\n<g id=\"edge1\" class=\"edge\">\n<title>1841997594576-&gt;1841996487600</title>\n<path fill=\"none\" stroke=\"black\" d=\"M244,-1079.37C244,-1071.15 244,-1061.66 244,-1052.73\"/>\n<polygon fill=\"black\" stroke=\"black\" points=\"247.5,-1052.61 244,-1042.61 240.5,-1052.61 247.5,-1052.61\"/>\n</g>\n<!-- 1841997035936 -->\n<g id=\"node3\" class=\"node\">\n<title>1841997035936</title>\n<polygon fill=\"none\" stroke=\"black\" points=\"73,-913.5 73,-959.5 415,-959.5 415,-913.5 73,-913.5\"/>\n<text text-anchor=\"middle\" x=\"153.5\" y=\"-932.8\" font-family=\"Times New Roman,serif\" font-size=\"14.00\">random_flip: RandomFlip</text>\n<polyline fill=\"none\" stroke=\"black\" points=\"234,-913.5 234,-959.5 \"/>\n<text text-anchor=\"middle\" x=\"262\" y=\"-944.3\" font-family=\"Times New Roman,serif\" font-size=\"14.00\">input:</text>\n<polyline fill=\"none\" stroke=\"black\" points=\"234,-936.5 290,-936.5 \"/>\n<text text-anchor=\"middle\" x=\"262\" y=\"-921.3\" font-family=\"Times New Roman,serif\" font-size=\"14.00\">output:</text>\n<polyline fill=\"none\" stroke=\"black\" points=\"290,-913.5 290,-959.5 \"/>\n<text text-anchor=\"middle\" x=\"352.5\" y=\"-944.3\" font-family=\"Times New Roman,serif\" font-size=\"14.00\">(None, 150, 150, 3)</text>\n<polyline fill=\"none\" stroke=\"black\" points=\"290,-936.5 415,-936.5 \"/>\n<text text-anchor=\"middle\" x=\"352.5\" y=\"-921.3\" font-family=\"Times New Roman,serif\" font-size=\"14.00\">(None, 150, 150, 3)</text>\n</g>\n<!-- 1841996487600&#45;&gt;1841997035936 -->\n<g id=\"edge2\" class=\"edge\">\n<title>1841996487600-&gt;1841997035936</title>\n<path fill=\"none\" stroke=\"black\" d=\"M244,-996.37C244,-988.15 244,-978.66 244,-969.73\"/>\n<polygon fill=\"black\" stroke=\"black\" points=\"247.5,-969.61 244,-959.61 240.5,-969.61 247.5,-969.61\"/>\n</g>\n<!-- 1841997014016 -->\n<g id=\"node4\" class=\"node\">\n<title>1841997014016</title>\n<polygon fill=\"none\" stroke=\"black\" points=\"65.5,-830.5 65.5,-876.5 422.5,-876.5 422.5,-830.5 65.5,-830.5\"/>\n<text text-anchor=\"middle\" x=\"153.5\" y=\"-849.8\" font-family=\"Times New Roman,serif\" font-size=\"14.00\">random_flip_1: RandomFlip</text>\n<polyline fill=\"none\" stroke=\"black\" points=\"241.5,-830.5 241.5,-876.5 \"/>\n<text text-anchor=\"middle\" x=\"269.5\" y=\"-861.3\" font-family=\"Times New Roman,serif\" font-size=\"14.00\">input:</text>\n<polyline fill=\"none\" stroke=\"black\" points=\"241.5,-853.5 297.5,-853.5 \"/>\n<text text-anchor=\"middle\" x=\"269.5\" y=\"-838.3\" font-family=\"Times New Roman,serif\" font-size=\"14.00\">output:</text>\n<polyline fill=\"none\" stroke=\"black\" points=\"297.5,-830.5 297.5,-876.5 \"/>\n<text text-anchor=\"middle\" x=\"360\" y=\"-861.3\" font-family=\"Times New Roman,serif\" font-size=\"14.00\">(None, 150, 150, 3)</text>\n<polyline fill=\"none\" stroke=\"black\" points=\"297.5,-853.5 422.5,-853.5 \"/>\n<text text-anchor=\"middle\" x=\"360\" y=\"-838.3\" font-family=\"Times New Roman,serif\" font-size=\"14.00\">(None, 150, 150, 3)</text>\n</g>\n<!-- 1841997035936&#45;&gt;1841997014016 -->\n<g id=\"edge3\" class=\"edge\">\n<title>1841997035936-&gt;1841997014016</title>\n<path fill=\"none\" stroke=\"black\" d=\"M244,-913.37C244,-905.15 244,-895.66 244,-886.73\"/>\n<polygon fill=\"black\" stroke=\"black\" points=\"247.5,-886.61 244,-876.61 240.5,-886.61 247.5,-886.61\"/>\n</g>\n<!-- 1841996995264 -->\n<g id=\"node5\" class=\"node\">\n<title>1841996995264</title>\n<polygon fill=\"none\" stroke=\"black\" points=\"47.5,-747.5 47.5,-793.5 440.5,-793.5 440.5,-747.5 47.5,-747.5\"/>\n<text text-anchor=\"middle\" x=\"153.5\" y=\"-766.8\" font-family=\"Times New Roman,serif\" font-size=\"14.00\">random_rotation: RandomRotation</text>\n<polyline fill=\"none\" stroke=\"black\" points=\"259.5,-747.5 259.5,-793.5 \"/>\n<text text-anchor=\"middle\" x=\"287.5\" y=\"-778.3\" font-family=\"Times New Roman,serif\" font-size=\"14.00\">input:</text>\n<polyline fill=\"none\" stroke=\"black\" points=\"259.5,-770.5 315.5,-770.5 \"/>\n<text text-anchor=\"middle\" x=\"287.5\" y=\"-755.3\" font-family=\"Times New Roman,serif\" font-size=\"14.00\">output:</text>\n<polyline fill=\"none\" stroke=\"black\" points=\"315.5,-747.5 315.5,-793.5 \"/>\n<text text-anchor=\"middle\" x=\"378\" y=\"-778.3\" font-family=\"Times New Roman,serif\" font-size=\"14.00\">(None, 150, 150, 3)</text>\n<polyline fill=\"none\" stroke=\"black\" points=\"315.5,-770.5 440.5,-770.5 \"/>\n<text text-anchor=\"middle\" x=\"378\" y=\"-755.3\" font-family=\"Times New Roman,serif\" font-size=\"14.00\">(None, 150, 150, 3)</text>\n</g>\n<!-- 1841997014016&#45;&gt;1841996995264 -->\n<g id=\"edge4\" class=\"edge\">\n<title>1841997014016-&gt;1841996995264</title>\n<path fill=\"none\" stroke=\"black\" d=\"M244,-830.37C244,-822.15 244,-812.66 244,-803.73\"/>\n<polygon fill=\"black\" stroke=\"black\" points=\"247.5,-803.61 244,-793.61 240.5,-803.61 247.5,-803.61\"/>\n</g>\n<!-- 1841995797696 -->\n<g id=\"node6\" class=\"node\">\n<title>1841995797696</title>\n<polygon fill=\"none\" stroke=\"black\" points=\"60,-664.5 60,-710.5 428,-710.5 428,-664.5 60,-664.5\"/>\n<text text-anchor=\"middle\" x=\"153.5\" y=\"-683.8\" font-family=\"Times New Roman,serif\" font-size=\"14.00\">random_zoom: RandomZoom</text>\n<polyline fill=\"none\" stroke=\"black\" points=\"247,-664.5 247,-710.5 \"/>\n<text text-anchor=\"middle\" x=\"275\" y=\"-695.3\" font-family=\"Times New Roman,serif\" font-size=\"14.00\">input:</text>\n<polyline fill=\"none\" stroke=\"black\" points=\"247,-687.5 303,-687.5 \"/>\n<text text-anchor=\"middle\" x=\"275\" y=\"-672.3\" font-family=\"Times New Roman,serif\" font-size=\"14.00\">output:</text>\n<polyline fill=\"none\" stroke=\"black\" points=\"303,-664.5 303,-710.5 \"/>\n<text text-anchor=\"middle\" x=\"365.5\" y=\"-695.3\" font-family=\"Times New Roman,serif\" font-size=\"14.00\">(None, 150, 150, 3)</text>\n<polyline fill=\"none\" stroke=\"black\" points=\"303,-687.5 428,-687.5 \"/>\n<text text-anchor=\"middle\" x=\"365.5\" y=\"-672.3\" font-family=\"Times New Roman,serif\" font-size=\"14.00\">(None, 150, 150, 3)</text>\n</g>\n<!-- 1841996995264&#45;&gt;1841995797696 -->\n<g id=\"edge5\" class=\"edge\">\n<title>1841996995264-&gt;1841995797696</title>\n<path fill=\"none\" stroke=\"black\" d=\"M244,-747.37C244,-739.15 244,-729.66 244,-720.73\"/>\n<polygon fill=\"black\" stroke=\"black\" points=\"247.5,-720.61 244,-710.61 240.5,-720.61 247.5,-720.61\"/>\n</g>\n<!-- 1841997036224 -->\n<g id=\"node7\" class=\"node\">\n<title>1841997036224</title>\n<polygon fill=\"none\" stroke=\"black\" points=\"78,-581.5 78,-627.5 410,-627.5 410,-581.5 78,-581.5\"/>\n<text text-anchor=\"middle\" x=\"153.5\" y=\"-600.8\" font-family=\"Times New Roman,serif\" font-size=\"14.00\">densenet121: Functional</text>\n<polyline fill=\"none\" stroke=\"black\" points=\"229,-581.5 229,-627.5 \"/>\n<text text-anchor=\"middle\" x=\"257\" y=\"-612.3\" font-family=\"Times New Roman,serif\" font-size=\"14.00\">input:</text>\n<polyline fill=\"none\" stroke=\"black\" points=\"229,-604.5 285,-604.5 \"/>\n<text text-anchor=\"middle\" x=\"257\" y=\"-589.3\" font-family=\"Times New Roman,serif\" font-size=\"14.00\">output:</text>\n<polyline fill=\"none\" stroke=\"black\" points=\"285,-581.5 285,-627.5 \"/>\n<text text-anchor=\"middle\" x=\"347.5\" y=\"-612.3\" font-family=\"Times New Roman,serif\" font-size=\"14.00\">(None, 150, 150, 3)</text>\n<polyline fill=\"none\" stroke=\"black\" points=\"285,-604.5 410,-604.5 \"/>\n<text text-anchor=\"middle\" x=\"347.5\" y=\"-589.3\" font-family=\"Times New Roman,serif\" font-size=\"14.00\">(None, 4, 4, 1024)</text>\n</g>\n<!-- 1841995797696&#45;&gt;1841997036224 -->\n<g id=\"edge6\" class=\"edge\">\n<title>1841995797696-&gt;1841997036224</title>\n<path fill=\"none\" stroke=\"black\" d=\"M244,-664.37C244,-656.15 244,-646.66 244,-637.73\"/>\n<polygon fill=\"black\" stroke=\"black\" points=\"247.5,-637.61 244,-627.61 240.5,-637.61 247.5,-637.61\"/>\n</g>\n<!-- 1841996977968 -->\n<g id=\"node8\" class=\"node\">\n<title>1841996977968</title>\n<polygon fill=\"none\" stroke=\"black\" points=\"0,-498.5 0,-544.5 488,-544.5 488,-498.5 0,-498.5\"/>\n<text text-anchor=\"middle\" x=\"156.5\" y=\"-517.8\" font-family=\"Times New Roman,serif\" font-size=\"14.00\">global_average_pooling2d: GlobalAveragePooling2D</text>\n<polyline fill=\"none\" stroke=\"black\" points=\"313,-498.5 313,-544.5 \"/>\n<text text-anchor=\"middle\" x=\"341\" y=\"-529.3\" font-family=\"Times New Roman,serif\" font-size=\"14.00\">input:</text>\n<polyline fill=\"none\" stroke=\"black\" points=\"313,-521.5 369,-521.5 \"/>\n<text text-anchor=\"middle\" x=\"341\" y=\"-506.3\" font-family=\"Times New Roman,serif\" font-size=\"14.00\">output:</text>\n<polyline fill=\"none\" stroke=\"black\" points=\"369,-498.5 369,-544.5 \"/>\n<text text-anchor=\"middle\" x=\"428.5\" y=\"-529.3\" font-family=\"Times New Roman,serif\" font-size=\"14.00\">(None, 4, 4, 1024)</text>\n<polyline fill=\"none\" stroke=\"black\" points=\"369,-521.5 488,-521.5 \"/>\n<text text-anchor=\"middle\" x=\"428.5\" y=\"-506.3\" font-family=\"Times New Roman,serif\" font-size=\"14.00\">(None, 1024)</text>\n</g>\n<!-- 1841997036224&#45;&gt;1841996977968 -->\n<g id=\"edge7\" class=\"edge\">\n<title>1841997036224-&gt;1841996977968</title>\n<path fill=\"none\" stroke=\"black\" d=\"M244,-581.37C244,-573.15 244,-563.66 244,-554.73\"/>\n<polygon fill=\"black\" stroke=\"black\" points=\"247.5,-554.61 244,-544.61 240.5,-554.61 247.5,-554.61\"/>\n</g>\n<!-- 1841996966208 -->\n<g id=\"node9\" class=\"node\">\n<title>1841996966208</title>\n<polygon fill=\"none\" stroke=\"black\" points=\"48.5,-415.5 48.5,-461.5 439.5,-461.5 439.5,-415.5 48.5,-415.5\"/>\n<text text-anchor=\"middle\" x=\"171\" y=\"-434.8\" font-family=\"Times New Roman,serif\" font-size=\"14.00\">batch_normalization: BatchNormalization</text>\n<polyline fill=\"none\" stroke=\"black\" points=\"293.5,-415.5 293.5,-461.5 \"/>\n<text text-anchor=\"middle\" x=\"321.5\" y=\"-446.3\" font-family=\"Times New Roman,serif\" font-size=\"14.00\">input:</text>\n<polyline fill=\"none\" stroke=\"black\" points=\"293.5,-438.5 349.5,-438.5 \"/>\n<text text-anchor=\"middle\" x=\"321.5\" y=\"-423.3\" font-family=\"Times New Roman,serif\" font-size=\"14.00\">output:</text>\n<polyline fill=\"none\" stroke=\"black\" points=\"349.5,-415.5 349.5,-461.5 \"/>\n<text text-anchor=\"middle\" x=\"394.5\" y=\"-446.3\" font-family=\"Times New Roman,serif\" font-size=\"14.00\">(None, 1024)</text>\n<polyline fill=\"none\" stroke=\"black\" points=\"349.5,-438.5 439.5,-438.5 \"/>\n<text text-anchor=\"middle\" x=\"394.5\" y=\"-423.3\" font-family=\"Times New Roman,serif\" font-size=\"14.00\">(None, 1024)</text>\n</g>\n<!-- 1841996977968&#45;&gt;1841996966208 -->\n<g id=\"edge8\" class=\"edge\">\n<title>1841996977968-&gt;1841996966208</title>\n<path fill=\"none\" stroke=\"black\" d=\"M244,-498.37C244,-490.15 244,-480.66 244,-471.73\"/>\n<polygon fill=\"black\" stroke=\"black\" points=\"247.5,-471.61 244,-461.61 240.5,-471.61 247.5,-471.61\"/>\n</g>\n<!-- 1841996495984 -->\n<g id=\"node10\" class=\"node\">\n<title>1841996495984</title>\n<polygon fill=\"none\" stroke=\"black\" points=\"113,-332.5 113,-378.5 375,-378.5 375,-332.5 113,-332.5\"/>\n<text text-anchor=\"middle\" x=\"171\" y=\"-351.8\" font-family=\"Times New Roman,serif\" font-size=\"14.00\">dropout: Dropout</text>\n<polyline fill=\"none\" stroke=\"black\" points=\"229,-332.5 229,-378.5 \"/>\n<text text-anchor=\"middle\" x=\"257\" y=\"-363.3\" font-family=\"Times New Roman,serif\" font-size=\"14.00\">input:</text>\n<polyline fill=\"none\" stroke=\"black\" points=\"229,-355.5 285,-355.5 \"/>\n<text text-anchor=\"middle\" x=\"257\" y=\"-340.3\" font-family=\"Times New Roman,serif\" font-size=\"14.00\">output:</text>\n<polyline fill=\"none\" stroke=\"black\" points=\"285,-332.5 285,-378.5 \"/>\n<text text-anchor=\"middle\" x=\"330\" y=\"-363.3\" font-family=\"Times New Roman,serif\" font-size=\"14.00\">(None, 1024)</text>\n<polyline fill=\"none\" stroke=\"black\" points=\"285,-355.5 375,-355.5 \"/>\n<text text-anchor=\"middle\" x=\"330\" y=\"-340.3\" font-family=\"Times New Roman,serif\" font-size=\"14.00\">(None, 1024)</text>\n</g>\n<!-- 1841996966208&#45;&gt;1841996495984 -->\n<g id=\"edge9\" class=\"edge\">\n<title>1841996966208-&gt;1841996495984</title>\n<path fill=\"none\" stroke=\"black\" d=\"M244,-415.37C244,-407.15 244,-397.66 244,-388.73\"/>\n<polygon fill=\"black\" stroke=\"black\" points=\"247.5,-388.61 244,-378.61 240.5,-388.61 247.5,-388.61\"/>\n</g>\n<!-- 1841996508128 -->\n<g id=\"node11\" class=\"node\">\n<title>1841996508128</title>\n<polygon fill=\"none\" stroke=\"black\" points=\"126,-249.5 126,-295.5 362,-295.5 362,-249.5 126,-249.5\"/>\n<text text-anchor=\"middle\" x=\"171\" y=\"-268.8\" font-family=\"Times New Roman,serif\" font-size=\"14.00\">dense: Dense</text>\n<polyline fill=\"none\" stroke=\"black\" points=\"216,-249.5 216,-295.5 \"/>\n<text text-anchor=\"middle\" x=\"244\" y=\"-280.3\" font-family=\"Times New Roman,serif\" font-size=\"14.00\">input:</text>\n<polyline fill=\"none\" stroke=\"black\" points=\"216,-272.5 272,-272.5 \"/>\n<text text-anchor=\"middle\" x=\"244\" y=\"-257.3\" font-family=\"Times New Roman,serif\" font-size=\"14.00\">output:</text>\n<polyline fill=\"none\" stroke=\"black\" points=\"272,-249.5 272,-295.5 \"/>\n<text text-anchor=\"middle\" x=\"317\" y=\"-280.3\" font-family=\"Times New Roman,serif\" font-size=\"14.00\">(None, 1024)</text>\n<polyline fill=\"none\" stroke=\"black\" points=\"272,-272.5 362,-272.5 \"/>\n<text text-anchor=\"middle\" x=\"317\" y=\"-257.3\" font-family=\"Times New Roman,serif\" font-size=\"14.00\">(None, 1024)</text>\n</g>\n<!-- 1841996495984&#45;&gt;1841996508128 -->\n<g id=\"edge10\" class=\"edge\">\n<title>1841996495984-&gt;1841996508128</title>\n<path fill=\"none\" stroke=\"black\" d=\"M244,-332.37C244,-324.15 244,-314.66 244,-305.73\"/>\n<polygon fill=\"black\" stroke=\"black\" points=\"247.5,-305.61 244,-295.61 240.5,-305.61 247.5,-305.61\"/>\n</g>\n<!-- 1841996678288 -->\n<g id=\"node12\" class=\"node\">\n<title>1841996678288</title>\n<polygon fill=\"none\" stroke=\"black\" points=\"119,-166.5 119,-212.5 369,-212.5 369,-166.5 119,-166.5\"/>\n<text text-anchor=\"middle\" x=\"171\" y=\"-185.8\" font-family=\"Times New Roman,serif\" font-size=\"14.00\">dense_1: Dense</text>\n<polyline fill=\"none\" stroke=\"black\" points=\"223,-166.5 223,-212.5 \"/>\n<text text-anchor=\"middle\" x=\"251\" y=\"-197.3\" font-family=\"Times New Roman,serif\" font-size=\"14.00\">input:</text>\n<polyline fill=\"none\" stroke=\"black\" points=\"223,-189.5 279,-189.5 \"/>\n<text text-anchor=\"middle\" x=\"251\" y=\"-174.3\" font-family=\"Times New Roman,serif\" font-size=\"14.00\">output:</text>\n<polyline fill=\"none\" stroke=\"black\" points=\"279,-166.5 279,-212.5 \"/>\n<text text-anchor=\"middle\" x=\"324\" y=\"-197.3\" font-family=\"Times New Roman,serif\" font-size=\"14.00\">(None, 1024)</text>\n<polyline fill=\"none\" stroke=\"black\" points=\"279,-189.5 369,-189.5 \"/>\n<text text-anchor=\"middle\" x=\"324\" y=\"-174.3\" font-family=\"Times New Roman,serif\" font-size=\"14.00\">(None, 512)</text>\n</g>\n<!-- 1841996508128&#45;&gt;1841996678288 -->\n<g id=\"edge11\" class=\"edge\">\n<title>1841996508128-&gt;1841996678288</title>\n<path fill=\"none\" stroke=\"black\" d=\"M244,-249.37C244,-241.15 244,-231.66 244,-222.73\"/>\n<polygon fill=\"black\" stroke=\"black\" points=\"247.5,-222.61 244,-212.61 240.5,-222.61 247.5,-222.61\"/>\n</g>\n<!-- 1841996710624 -->\n<g id=\"node13\" class=\"node\">\n<title>1841996710624</title>\n<polygon fill=\"none\" stroke=\"black\" points=\"44.5,-83.5 44.5,-129.5 443.5,-129.5 443.5,-83.5 44.5,-83.5\"/>\n<text text-anchor=\"middle\" x=\"174.5\" y=\"-102.8\" font-family=\"Times New Roman,serif\" font-size=\"14.00\">batch_normalization_1: BatchNormalization</text>\n<polyline fill=\"none\" stroke=\"black\" points=\"304.5,-83.5 304.5,-129.5 \"/>\n<text text-anchor=\"middle\" x=\"332.5\" y=\"-114.3\" font-family=\"Times New Roman,serif\" font-size=\"14.00\">input:</text>\n<polyline fill=\"none\" stroke=\"black\" points=\"304.5,-106.5 360.5,-106.5 \"/>\n<text text-anchor=\"middle\" x=\"332.5\" y=\"-91.3\" font-family=\"Times New Roman,serif\" font-size=\"14.00\">output:</text>\n<polyline fill=\"none\" stroke=\"black\" points=\"360.5,-83.5 360.5,-129.5 \"/>\n<text text-anchor=\"middle\" x=\"402\" y=\"-114.3\" font-family=\"Times New Roman,serif\" font-size=\"14.00\">(None, 512)</text>\n<polyline fill=\"none\" stroke=\"black\" points=\"360.5,-106.5 443.5,-106.5 \"/>\n<text text-anchor=\"middle\" x=\"402\" y=\"-91.3\" font-family=\"Times New Roman,serif\" font-size=\"14.00\">(None, 512)</text>\n</g>\n<!-- 1841996678288&#45;&gt;1841996710624 -->\n<g id=\"edge12\" class=\"edge\">\n<title>1841996678288-&gt;1841996710624</title>\n<path fill=\"none\" stroke=\"black\" d=\"M244,-166.37C244,-158.15 244,-148.66 244,-139.73\"/>\n<polygon fill=\"black\" stroke=\"black\" points=\"247.5,-139.61 244,-129.61 240.5,-139.61 247.5,-139.61\"/>\n</g>\n<!-- 1841996723104 -->\n<g id=\"node14\" class=\"node\">\n<title>1841996723104</title>\n<polygon fill=\"none\" stroke=\"black\" points=\"122.5,-0.5 122.5,-46.5 365.5,-46.5 365.5,-0.5 122.5,-0.5\"/>\n<text text-anchor=\"middle\" x=\"174.5\" y=\"-19.8\" font-family=\"Times New Roman,serif\" font-size=\"14.00\">dense_2: Dense</text>\n<polyline fill=\"none\" stroke=\"black\" points=\"226.5,-0.5 226.5,-46.5 \"/>\n<text text-anchor=\"middle\" x=\"254.5\" y=\"-31.3\" font-family=\"Times New Roman,serif\" font-size=\"14.00\">input:</text>\n<polyline fill=\"none\" stroke=\"black\" points=\"226.5,-23.5 282.5,-23.5 \"/>\n<text text-anchor=\"middle\" x=\"254.5\" y=\"-8.3\" font-family=\"Times New Roman,serif\" font-size=\"14.00\">output:</text>\n<polyline fill=\"none\" stroke=\"black\" points=\"282.5,-0.5 282.5,-46.5 \"/>\n<text text-anchor=\"middle\" x=\"324\" y=\"-31.3\" font-family=\"Times New Roman,serif\" font-size=\"14.00\">(None, 512)</text>\n<polyline fill=\"none\" stroke=\"black\" points=\"282.5,-23.5 365.5,-23.5 \"/>\n<text text-anchor=\"middle\" x=\"324\" y=\"-8.3\" font-family=\"Times New Roman,serif\" font-size=\"14.00\">(None, 1)</text>\n</g>\n<!-- 1841996710624&#45;&gt;1841996723104 -->\n<g id=\"edge13\" class=\"edge\">\n<title>1841996710624-&gt;1841996723104</title>\n<path fill=\"none\" stroke=\"black\" d=\"M244,-83.37C244,-75.15 244,-65.66 244,-56.73\"/>\n<polygon fill=\"black\" stroke=\"black\" points=\"247.5,-56.61 244,-46.61 240.5,-56.61 247.5,-56.61\"/>\n</g>\n</g>\n</svg>"
     },
     "execution_count": 9,
     "metadata": {},
     "output_type": "execute_result"
    }
   ],
   "source": [
    "SVG(model_to_dot(\n",
    "    model, show_shapes=True, show_layer_names=True, rankdir='TB',\n",
    "    expand_nested=False, dpi=60, subgraph=False\n",
    ").create(prog='dot',format='svg'))\n"
   ]
  },
  {
   "cell_type": "code",
   "execution_count": 8,
   "id": "e4ef0466",
   "metadata": {},
   "outputs": [],
   "source": [
    "def focal_loss_custom(alpha, gamma):\n",
    "    def binary_focal_loss(y_true, y_pred):\n",
    "        fl = tfa.losses.SigmoidFocalCrossEntropy(alpha=alpha, gamma=gamma)\n",
    "        #       y_true_K = tf.ones_like(y_true)\n",
    "        focal_loss = fl(tf.cast(y_true, tf.float32), tf.cast(y_pred, tf.float32))\n",
    "        return focal_loss\n",
    "\n",
    "    return binary_focal_loss"
   ]
  },
  {
   "cell_type": "code",
   "execution_count": 9,
   "id": "92543de0",
   "metadata": {},
   "outputs": [],
   "source": [
    "model.compile(\n",
    "    optimizer='adam',\n",
    "    #     loss='binary_crossentropy',\n",
    "    #     loss=tfa.losses.SigmoidFocalCrossEntropy(alpha=0.2,gamma=2.0),\n",
    "    loss=focal_loss_custom(gamma=2.0, alpha=0.2),\n",
    "    metrics=METRICS\n",
    ")"
   ]
  },
  {
   "cell_type": "code",
   "execution_count": 11,
   "id": "aaf6a8b3",
   "metadata": {},
   "outputs": [
    {
     "data": {
      "text/plain": [
       "<tensorflow.python.training.tracking.util.CheckpointLoadStatus at 0x20744a29220>"
      ]
     },
     "execution_count": 11,
     "metadata": {},
     "output_type": "execute_result"
    }
   ],
   "source": [
    "model.load_weights('./models/Dense121FocalLossAdam89perc/')"
   ]
  },
  {
   "cell_type": "code",
   "execution_count": 15,
   "id": "81f7b0a9",
   "metadata": {},
   "outputs": [
    {
     "name": "stdout",
     "output_type": "stream",
     "text": [
      "Found 624 files belonging to 2 classes.\n"
     ]
    }
   ],
   "source": [
    "test_dataset = tf.keras.preprocessing.image_dataset_from_directory(\n",
    "    directory='./chest_xray/chest_xray/test/',\n",
    "    labels='inferred',\n",
    "    batch_size=1,\n",
    "    #     seed=123,\n",
    "    #     subset='training',\n",
    "    #     validation_split=0.2\n",
    "    image_size=(img_height, img_width)\n",
    ")\n",
    "AUTOTUNE = tf.data.AUTOTUNE\n",
    "\n",
    "test_ds = test_dataset.cache().prefetch(buffer_size=AUTOTUNE)"
   ]
  },
  {
   "cell_type": "code",
   "execution_count": 16,
   "id": "c967625a",
   "metadata": {},
   "outputs": [
    {
     "name": "stdout",
     "output_type": "stream",
     "text": [
      "624/624 [==============================] - 24s 29ms/step - loss: 0.0276 - tp: 328.0000 - fp: 13.0000 - tn: 221.0000 - fn: 62.0000 - accuracy: 0.8798 - precision: 0.9619 - recall: 0.8410 - auc: 0.9660 - prc: 0.9727\n"
     ]
    }
   ],
   "source": [
    "eval_history = model.evaluate(\n",
    "    test_ds,\n",
    "    batch_size=1,\n",
    ")"
   ]
  },
  {
   "cell_type": "code",
   "execution_count": 34,
   "id": "49bdbd1f",
   "metadata": {},
   "outputs": [],
   "source": [
    "test_img = tf.keras.preprocessing.image.load_img(\n",
    "    '../chest_xray/chest_xray/test/NORMAL/IM-0003-0001.jpeg',\n",
    "    #     '../chest_xray/chest_xray/test/PNEUMONIA/person100_bacteria_480.jpeg',\n",
    "    target_size=(img_width, img_height),\n",
    ")\n",
    "input_arr = tf.keras.preprocessing.image.img_to_array(test_img)\n",
    "input_arr = np.array([input_arr])"
   ]
  },
  {
   "cell_type": "code",
   "execution_count": 35,
   "id": "81536f5d",
   "metadata": {},
   "outputs": [
    {
     "data": {
      "text/plain": [
       "array([[0.10002454]], dtype=float32)"
      ]
     },
     "execution_count": 35,
     "metadata": {},
     "output_type": "execute_result"
    }
   ],
   "source": [
    "predictions = model.predict(input_arr)\n",
    "predictions"
   ]
  },
  {
   "cell_type": "code",
   "execution_count": null,
   "id": "1d1cd846",
   "metadata": {},
   "outputs": [],
   "source": []
  }
 ],
 "metadata": {
  "kernelspec": {
   "display_name": "Python 3",
   "language": "python",
   "name": "python3"
  },
  "language_info": {
   "codemirror_mode": {
    "name": "ipython",
    "version": 3
   },
   "file_extension": ".py",
   "mimetype": "text/x-python",
   "name": "python",
   "nbconvert_exporter": "python",
   "pygments_lexer": "ipython3",
   "version": "3.8.10"
  }
 },
 "nbformat": 4,
 "nbformat_minor": 5
}